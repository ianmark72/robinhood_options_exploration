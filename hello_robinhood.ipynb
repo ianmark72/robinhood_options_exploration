{
 "cells": [
  {
   "cell_type": "code",
   "execution_count": 107,
   "metadata": {},
   "outputs": [],
   "source": [
    "import robin_stocks as r\n",
    "from robin_stocks import options\n",
    "import matplotlib.pyplot as plt\n",
    "import datetime as dt\n",
    "import rh_login"
   ]
  },
  {
   "cell_type": "code",
   "execution_count": 108,
   "metadata": {},
   "outputs": [
    {
     "ename": "NameError",
     "evalue": "name 'robin_stocks' is not defined",
     "output_type": "error",
     "traceback": [
      "\u001b[0;31m---------------------------------------------------------------------------\u001b[0m",
      "\u001b[0;31mNameError\u001b[0m                                 Traceback (most recent call last)",
      "\u001b[0;32m<ipython-input-108-0b56fccbe581>\u001b[0m in \u001b[0;36m<module>\u001b[0;34m\u001b[0m\n\u001b[0;32m----> 1\u001b[0;31m \u001b[0mrh_login\u001b[0m\u001b[0;34m.\u001b[0m\u001b[0mlogin\u001b[0m\u001b[0;34m(\u001b[0m\u001b[0;34m)\u001b[0m\u001b[0;34m\u001b[0m\u001b[0;34m\u001b[0m\u001b[0m\n\u001b[0m",
      "\u001b[0;32m~/Documents/Python Enviroments/jupyter/Trading/rh_login.py\u001b[0m in \u001b[0;36mlogin\u001b[0;34m()\u001b[0m\n\u001b[1;32m      1\u001b[0m \u001b[0;32mimport\u001b[0m \u001b[0mrobin_stocks\u001b[0m \u001b[0;32mas\u001b[0m \u001b[0mr\u001b[0m\u001b[0;34m\u001b[0m\u001b[0;34m\u001b[0m\u001b[0m\n\u001b[0;32m----> 2\u001b[0;31m \u001b[0;32mimport\u001b[0m \u001b[0mkeyring\u001b[0m \u001b[0;32mas\u001b[0m \u001b[0mkr\u001b[0m\u001b[0;34m\u001b[0m\u001b[0;34m\u001b[0m\u001b[0m\n\u001b[0m\u001b[1;32m      3\u001b[0m \u001b[0;32mdef\u001b[0m \u001b[0mlogin\u001b[0m\u001b[0;34m(\u001b[0m\u001b[0;34m)\u001b[0m\u001b[0;34m:\u001b[0m\u001b[0;34m\u001b[0m\u001b[0;34m\u001b[0m\u001b[0m\n\u001b[1;32m      4\u001b[0m     \u001b[0mrobin_stocks\u001b[0m\u001b[0;34m.\u001b[0m\u001b[0mlogin\u001b[0m\u001b[0;34m(\u001b[0m\u001b[0;34m\"ianmark72@gmail.com\"\u001b[0m\u001b[0;34m,\u001b[0m \u001b[0mkr\u001b[0m\u001b[0;34m.\u001b[0m\u001b[0mget_password\u001b[0m\u001b[0;34m(\u001b[0m\u001b[0;34m\"robinhood\"\u001b[0m\u001b[0;34m,\u001b[0m\u001b[0;34m\"ianmark72@gmail.com\"\u001b[0m\u001b[0;34m)\u001b[0m\u001b[0;34m)\u001b[0m\u001b[0;34m\u001b[0m\u001b[0;34m\u001b[0m\u001b[0m\n\u001b[1;32m      5\u001b[0m \u001b[0;34m\u001b[0m\u001b[0m\n",
      "\u001b[0;31mNameError\u001b[0m: name 'robin_stocks' is not defined"
     ]
    }
   ],
   "source": [
    "rh_login.login()"
   ]
  },
  {
   "cell_type": "code",
   "execution_count": 102,
   "metadata": {},
   "outputs": [],
   "source": [
    "def get_option_hist_and_plot(symbol, expirationDate, strike, optionType, interval, span, bounds, info):\n",
    "    symbol_name = r.get_name_by_symbol(symbol)\n",
    "    historicalData = r.get_option_historicals(symbol, expirationDate, strike, optionType, interval, span, bounds, info)\n",
    "    dates = []\n",
    "    closingPrices = []\n",
    "    openPrices = []\n",
    "    for data_point in historicalData:\n",
    "        dates.append(data_point['begins_at'])\n",
    "        closingPrices.append(data_point['close_price'])\n",
    "        openPrices.append(data_point['open_price'])\n",
    "\n",
    "    # change the dates into a format that matplotlib can recognize.\n",
    "    x = [dt.datetime.strptime(d,'%Y-%m-%dT%H:%M:%SZ') for d in dates]\n",
    "    openPrices, closingPrices = [float(i) for i in openPrices], [float(i) for i in closingPrices]\n",
    "    # plot the data.\n",
    "    plt.figure(figsize=(10,10))\n",
    "    plt.plot(x, closingPrices, 'ro', label=\"closing price\")\n",
    "    plt.plot(x, openPrices, 'bo',label= \"open price\")\n",
    "    plt.title(\"Put price exp. {} strike {} for {} over last week\".format(expirationDate, strike, symbol_name))\n",
    "    plt.legend(loc=\"upper right\")\n",
    "    plt.xlabel(\"Dates\")\n",
    "    plt.ylabel(\"Price\")\n",
    "    plt.savefig(\"{}-${}-{}\".format(expirationDate, strike, symbol_name))\n",
    "    plt.show()"
   ]
  },
  {
   "cell_type": "code",
   "execution_count": 103,
   "metadata": {},
   "outputs": [],
   "source": [
    "#!!! fill out the specific option information\n",
    "symbol = 'MRNA'\n",
    "expirationDate = '2020-07-24' # format is YYYY-MM-DD.\n",
    "strike = 90\n",
    "optionType = 'put' # available options are 'call' or 'put' or None.\n",
    "interval = 'day' # available options are '5minute', '10minute', 'hour', 'day', and 'week'.\n",
    "span = 'week' # available options are 'day', 'week', 'year', and '5year'.\n",
    "bounds = 'regular' # available options are 'regular', 'trading', and 'extended'.\n",
    "info = None    # Will filter the results to have a list of the values that correspond to key that matches info."
   ]
  },
  {
   "cell_type": "code",
   "execution_count": 104,
   "metadata": {},
   "outputs": [
    {
     "data": {
      "image/png": "[encoded data removed]",
      "text/plain": [
       "<Figure size 720x720 with 1 Axes>"
      ]
     },
     "metadata": {
      "needs_background": "light"
     },
     "output_type": "display_data"
    }
   ],
   "source": [
    "get_option_hist_and_plot(symbol, expirationDate, strike, optionType, interval, span, bounds, info)"
   ]
  },
  {
   "cell_type": "code",
   "execution_count": null,
   "metadata": {},
   "outputs": [],
   "source": []
  }
 ],
 "metadata": {
  "kernelspec": {
   "display_name": "Python 3",
   "language": "python",
   "name": "python3"
  },
  "language_info": {
   "codemirror_mode": {
    "name": "ipython",
    "version": 3
   },
   "file_extension": ".py",
   "mimetype": "text/x-python",
   "name": "python",
   "nbconvert_exporter": "python",
   "pygments_lexer": "ipython3",
   "version": "3.7.4"
  }
 },
 "nbformat": 4,
 "nbformat_minor": 2
}
